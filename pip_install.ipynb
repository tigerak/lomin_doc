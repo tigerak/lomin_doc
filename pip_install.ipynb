{
 "cells": [
  {
   "cell_type": "markdown",
   "metadata": {},
   "source": [
    "# Cuda 설정"
   ]
  },
  {
   "cell_type": "code",
   "execution_count": 1,
   "metadata": {},
   "outputs": [
    {
     "name": "stdout",
     "output_type": "stream",
     "text": [
      "Looking in links: https://download.pytorch.org/whl/torch_stable.html\n",
      "Collecting torch==1.7.1+cu110\n",
      "  Using cached https://download.pytorch.org/whl/cu110/torch-1.7.1%2Bcu110-cp37-cp37m-win_amd64.whl (2050.2 MB)\n",
      "Collecting torchvision==0.8.2+cu110\n",
      "  Using cached https://download.pytorch.org/whl/cu110/torchvision-0.8.2%2Bcu110-cp37-cp37m-win_amd64.whl (1.6 MB)\n",
      "Collecting torchaudio==0.7.2\n",
      "  Using cached https://download.pytorch.org/whl/torchaudio-0.7.2-cp37-none-win_amd64.whl (103 kB)\n",
      "Requirement already satisfied: typing-extensions in c:\\users\\tiger\\anaconda3\\envs\\lomin\\lib\\site-packages (from torch==1.7.1+cu110) (3.10.0.2)\n",
      "Collecting numpy\n",
      "  Downloading numpy-1.21.3-cp37-cp37m-win_amd64.whl (14.0 MB)\n",
      "Collecting pillow>=4.1.1\n",
      "  Using cached Pillow-8.4.0-cp37-cp37m-win_amd64.whl (3.2 MB)\n",
      "Installing collected packages: numpy, torch, pillow, torchvision, torchaudio\n",
      "Successfully installed numpy-1.21.3 pillow-8.4.0 torch-1.7.1+cu110 torchaudio-0.7.2 torchvision-0.8.2+cu110\n"
     ]
    }
   ],
   "source": [
    "!pip install torch==1.7.1+cu110 torchvision==0.8.2+cu110 torchaudio==0.7.2 -f https://download.pytorch.org/whl/torch_stable.html"
   ]
  },
  {
   "cell_type": "markdown",
   "metadata": {},
   "source": [
    "# 기타 필수"
   ]
  },
  {
   "cell_type": "code",
   "execution_count": 2,
   "metadata": {},
   "outputs": [
    {
     "name": "stdout",
     "output_type": "stream",
     "text": [
      "Collecting matplotlib\n",
      "  Using cached matplotlib-3.4.3-cp37-cp37m-win_amd64.whl (7.2 MB)\n",
      "Requirement already satisfied: pillow>=6.2.0 in c:\\users\\tiger\\anaconda3\\envs\\lomin\\lib\\site-packages (from matplotlib) (8.4.0)\n",
      "Requirement already satisfied: python-dateutil>=2.7 in c:\\users\\tiger\\anaconda3\\envs\\lomin\\lib\\site-packages (from matplotlib) (2.8.2)\n",
      "Collecting kiwisolver>=1.0.1\n",
      "  Using cached kiwisolver-1.3.2-cp37-cp37m-win_amd64.whl (51 kB)\n",
      "Requirement already satisfied: pyparsing>=2.2.1 in c:\\users\\tiger\\anaconda3\\envs\\lomin\\lib\\site-packages (from matplotlib) (3.0.1)\n",
      "Requirement already satisfied: numpy>=1.16 in c:\\users\\tiger\\anaconda3\\envs\\lomin\\lib\\site-packages (from matplotlib) (1.21.3)\n",
      "Collecting cycler>=0.10\n",
      "  Using cached cycler-0.10.0-py2.py3-none-any.whl (6.5 kB)\n",
      "Requirement already satisfied: six in c:\\users\\tiger\\anaconda3\\envs\\lomin\\lib\\site-packages (from cycler>=0.10->matplotlib) (1.16.0)\n",
      "Installing collected packages: kiwisolver, cycler, matplotlib\n",
      "Successfully installed cycler-0.10.0 kiwisolver-1.3.2 matplotlib-3.4.3\n",
      "Collecting seaborn\n",
      "  Using cached seaborn-0.11.2-py3-none-any.whl (292 kB)\n",
      "Collecting scipy>=1.0\n",
      "  Using cached scipy-1.7.1-cp37-cp37m-win_amd64.whl (33.6 MB)\n",
      "Requirement already satisfied: numpy>=1.15 in c:\\users\\tiger\\anaconda3\\envs\\lomin\\lib\\site-packages (from seaborn) (1.21.3)\n",
      "Requirement already satisfied: matplotlib>=2.2 in c:\\users\\tiger\\anaconda3\\envs\\lomin\\lib\\site-packages (from seaborn) (3.4.3)\n",
      "Collecting pandas>=0.23\n",
      "  Downloading pandas-1.3.4-cp37-cp37m-win_amd64.whl (10.0 MB)\n",
      "Requirement already satisfied: cycler>=0.10 in c:\\users\\tiger\\anaconda3\\envs\\lomin\\lib\\site-packages (from matplotlib>=2.2->seaborn) (0.10.0)\n",
      "Requirement already satisfied: kiwisolver>=1.0.1 in c:\\users\\tiger\\anaconda3\\envs\\lomin\\lib\\site-packages (from matplotlib>=2.2->seaborn) (1.3.2)\n",
      "Requirement already satisfied: pillow>=6.2.0 in c:\\users\\tiger\\anaconda3\\envs\\lomin\\lib\\site-packages (from matplotlib>=2.2->seaborn) (8.4.0)\n",
      "Requirement already satisfied: python-dateutil>=2.7 in c:\\users\\tiger\\anaconda3\\envs\\lomin\\lib\\site-packages (from matplotlib>=2.2->seaborn) (2.8.2)\n",
      "Requirement already satisfied: pyparsing>=2.2.1 in c:\\users\\tiger\\anaconda3\\envs\\lomin\\lib\\site-packages (from matplotlib>=2.2->seaborn) (3.0.1)\n",
      "Requirement already satisfied: six in c:\\users\\tiger\\anaconda3\\envs\\lomin\\lib\\site-packages (from cycler>=0.10->matplotlib>=2.2->seaborn) (1.16.0)\n",
      "Collecting pytz>=2017.3\n",
      "  Using cached pytz-2021.3-py2.py3-none-any.whl (503 kB)\n",
      "Installing collected packages: pytz, scipy, pandas, seaborn\n",
      "Successfully installed pandas-1.3.4 pytz-2021.3 scipy-1.7.1 seaborn-0.11.2\n",
      "Requirement already satisfied: numpy in c:\\users\\tiger\\anaconda3\\envs\\lomin\\lib\\site-packages (1.21.3)\n",
      "Requirement already satisfied: pandas in c:\\users\\tiger\\anaconda3\\envs\\lomin\\lib\\site-packages (1.3.4)\n",
      "Requirement already satisfied: numpy>=1.17.3 in c:\\users\\tiger\\anaconda3\\envs\\lomin\\lib\\site-packages (from pandas) (1.21.3)\n",
      "Requirement already satisfied: python-dateutil>=2.7.3 in c:\\users\\tiger\\anaconda3\\envs\\lomin\\lib\\site-packages (from pandas) (2.8.2)\n",
      "Requirement already satisfied: pytz>=2017.3 in c:\\users\\tiger\\anaconda3\\envs\\lomin\\lib\\site-packages (from pandas) (2021.3)\n",
      "Requirement already satisfied: six>=1.5 in c:\\users\\tiger\\anaconda3\\envs\\lomin\\lib\\site-packages (from python-dateutil>=2.7.3->pandas) (1.16.0)\n",
      "Collecting tqdm\n",
      "  Using cached tqdm-4.62.3-py2.py3-none-any.whl (76 kB)\n",
      "Requirement already satisfied: colorama in c:\\users\\tiger\\anaconda3\\envs\\lomin\\lib\\site-packages (from tqdm) (0.4.4)\n",
      "Installing collected packages: tqdm\n",
      "Successfully installed tqdm-4.62.3\n"
     ]
    }
   ],
   "source": [
    "!pip install matplotlib\n",
    "!pip install seaborn\n",
    "!pip install numpy\n",
    "!pip install pandas\n",
    "\n",
    "!pip install tqdm"
   ]
  },
  {
   "cell_type": "code",
   "execution_count": 1,
   "metadata": {},
   "outputs": [
    {
     "name": "stdout",
     "output_type": "stream",
     "text": [
      "Collecting sklearn\n",
      "  Using cached sklearn-0.0-py2.py3-none-any.whl\n",
      "Collecting scikit-learn\n",
      "  Downloading scikit_learn-1.0.1-cp37-cp37m-win_amd64.whl (7.2 MB)\n",
      "Collecting joblib>=0.11\n",
      "  Using cached joblib-1.1.0-py2.py3-none-any.whl (306 kB)\n",
      "Requirement already satisfied: scipy>=1.1.0 in c:\\users\\tiger\\anaconda3\\envs\\lomin\\lib\\site-packages (from scikit-learn->sklearn) (1.7.1)\n",
      "Requirement already satisfied: numpy>=1.14.6 in c:\\users\\tiger\\anaconda3\\envs\\lomin\\lib\\site-packages (from scikit-learn->sklearn) (1.21.3)\n",
      "Collecting threadpoolctl>=2.0.0\n",
      "  Using cached threadpoolctl-3.0.0-py3-none-any.whl (14 kB)\n",
      "Installing collected packages: threadpoolctl, joblib, scikit-learn, sklearn\n",
      "Successfully installed joblib-1.1.0 scikit-learn-1.0.1 sklearn-0.0 threadpoolctl-3.0.0\n"
     ]
    }
   ],
   "source": [
    "!pip install sklearn"
   ]
  },
  {
   "cell_type": "code",
   "execution_count": 1,
   "metadata": {},
   "outputs": [
    {
     "name": "stdout",
     "output_type": "stream",
     "text": [
      "Collecting albumentations\n",
      "  Downloading albumentations-1.1.0-py3-none-any.whl (102 kB)\n",
      "Collecting qudida>=0.0.4\n",
      "  Downloading qudida-0.0.4-py3-none-any.whl (3.5 kB)\n",
      "Requirement already satisfied: numpy>=1.11.1 in c:\\users\\tiger\\anaconda3\\envs\\lomin\\lib\\site-packages (from albumentations) (1.21.3)\n",
      "Collecting scikit-image>=0.16.1\n",
      "  Downloading scikit_image-0.18.3-cp37-cp37m-win_amd64.whl (12.1 MB)\n",
      "Collecting opencv-python-headless>=4.1.1\n",
      "  Downloading opencv_python_headless-4.5.4.58-cp37-cp37m-win_amd64.whl (35.0 MB)\n",
      "Requirement already satisfied: scipy in c:\\users\\tiger\\anaconda3\\envs\\lomin\\lib\\site-packages (from albumentations) (1.7.1)\n",
      "Collecting PyYAML\n",
      "  Using cached PyYAML-6.0-cp37-cp37m-win_amd64.whl (153 kB)\n",
      "Requirement already satisfied: scikit-learn>=0.19.1 in c:\\users\\tiger\\anaconda3\\envs\\lomin\\lib\\site-packages (from qudida>=0.0.4->albumentations) (1.0.1)\n",
      "Requirement already satisfied: typing-extensions in c:\\users\\tiger\\anaconda3\\envs\\lomin\\lib\\site-packages (from qudida>=0.0.4->albumentations) (3.10.0.2)\n",
      "Requirement already satisfied: pillow!=7.1.0,!=7.1.1,>=4.3.0 in c:\\users\\tiger\\anaconda3\\envs\\lomin\\lib\\site-packages (from scikit-image>=0.16.1->albumentations) (8.4.0)\n",
      "Collecting PyWavelets>=1.1.1\n",
      "  Downloading PyWavelets-1.1.1-cp37-cp37m-win_amd64.whl (4.2 MB)\n",
      "Collecting imageio>=2.3.0\n",
      "  Downloading imageio-2.10.1-py3-none-any.whl (3.3 MB)\n",
      "Collecting tifffile>=2019.7.26\n",
      "  Downloading tifffile-2021.10.12-py3-none-any.whl (175 kB)\n",
      "Requirement already satisfied: matplotlib!=3.0.0,>=2.0.0 in c:\\users\\tiger\\anaconda3\\envs\\lomin\\lib\\site-packages (from scikit-image>=0.16.1->albumentations) (3.4.3)\n",
      "Collecting networkx>=2.0\n",
      "  Using cached networkx-2.6.3-py3-none-any.whl (1.9 MB)\n",
      "Requirement already satisfied: cycler>=0.10 in c:\\users\\tiger\\anaconda3\\envs\\lomin\\lib\\site-packages (from matplotlib!=3.0.0,>=2.0.0->scikit-image>=0.16.1->albumentations) (0.10.0)\n",
      "Requirement already satisfied: pyparsing>=2.2.1 in c:\\users\\tiger\\anaconda3\\envs\\lomin\\lib\\site-packages (from matplotlib!=3.0.0,>=2.0.0->scikit-image>=0.16.1->albumentations) (3.0.1)\n",
      "Requirement already satisfied: python-dateutil>=2.7 in c:\\users\\tiger\\anaconda3\\envs\\lomin\\lib\\site-packages (from matplotlib!=3.0.0,>=2.0.0->scikit-image>=0.16.1->albumentations) (2.8.2)\n",
      "Requirement already satisfied: kiwisolver>=1.0.1 in c:\\users\\tiger\\anaconda3\\envs\\lomin\\lib\\site-packages (from matplotlib!=3.0.0,>=2.0.0->scikit-image>=0.16.1->albumentations) (1.3.2)\n",
      "Requirement already satisfied: six in c:\\users\\tiger\\anaconda3\\envs\\lomin\\lib\\site-packages (from cycler>=0.10->matplotlib!=3.0.0,>=2.0.0->scikit-image>=0.16.1->albumentations) (1.16.0)\n",
      "Requirement already satisfied: threadpoolctl>=2.0.0 in c:\\users\\tiger\\anaconda3\\envs\\lomin\\lib\\site-packages (from scikit-learn>=0.19.1->qudida>=0.0.4->albumentations) (3.0.0)\n",
      "Requirement already satisfied: joblib>=0.11 in c:\\users\\tiger\\anaconda3\\envs\\lomin\\lib\\site-packages (from scikit-learn>=0.19.1->qudida>=0.0.4->albumentations) (1.1.0)\n",
      "Installing collected packages: tifffile, PyWavelets, opencv-python-headless, networkx, imageio, scikit-image, qudida, PyYAML, albumentations\n",
      "Successfully installed PyWavelets-1.1.1 PyYAML-6.0 albumentations-1.1.0 imageio-2.10.1 networkx-2.6.3 opencv-python-headless-4.5.4.58 qudida-0.0.4 scikit-image-0.18.3 tifffile-2021.10.12\n"
     ]
    }
   ],
   "source": [
    "!pip install albumentations"
   ]
  },
  {
   "cell_type": "code",
   "execution_count": 2,
   "metadata": {},
   "outputs": [
    {
     "name": "stdout",
     "output_type": "stream",
     "text": [
      "Collecting opencv-python\n",
      "  Downloading opencv_python-4.5.4.58-cp37-cp37m-win_amd64.whl (35.1 MB)\n",
      "Requirement already satisfied: numpy>=1.14.5 in c:\\users\\tiger\\anaconda3\\envs\\lomin\\lib\\site-packages (from opencv-python) (1.21.3)\n",
      "Installing collected packages: opencv-python\n",
      "Successfully installed opencv-python-4.5.4.58\n"
     ]
    }
   ],
   "source": [
    "!pip install opencv-python"
   ]
  },
  {
   "cell_type": "code",
   "execution_count": 1,
   "metadata": {},
   "outputs": [
    {
     "name": "stdout",
     "output_type": "stream",
     "text": [
      "Collecting imgaug\n",
      "  Downloading imgaug-0.4.0-py2.py3-none-any.whl (948 kB)\n",
      "Requirement already satisfied: imageio in c:\\users\\tiger\\anaconda3\\envs\\lomin\\lib\\site-packages (from imgaug) (2.10.1)\n",
      "Requirement already satisfied: Pillow in c:\\users\\tiger\\anaconda3\\envs\\lomin\\lib\\site-packages (from imgaug) (8.4.0)\n",
      "Requirement already satisfied: scikit-image>=0.14.2 in c:\\users\\tiger\\anaconda3\\envs\\lomin\\lib\\site-packages (from imgaug) (0.18.3)\n",
      "Requirement already satisfied: scipy in c:\\users\\tiger\\anaconda3\\envs\\lomin\\lib\\site-packages (from imgaug) (1.7.1)\n",
      "Requirement already satisfied: opencv-python in c:\\users\\tiger\\anaconda3\\envs\\lomin\\lib\\site-packages (from imgaug) (4.5.4.58)\n",
      "Requirement already satisfied: numpy>=1.15 in c:\\users\\tiger\\anaconda3\\envs\\lomin\\lib\\site-packages (from imgaug) (1.21.3)\n",
      "Requirement already satisfied: matplotlib in c:\\users\\tiger\\anaconda3\\envs\\lomin\\lib\\site-packages (from imgaug) (3.4.3)\n",
      "Collecting Shapely\n",
      "  Downloading Shapely-1.8.0-cp37-cp37m-win_amd64.whl (1.1 MB)\n",
      "Requirement already satisfied: six in c:\\users\\tiger\\anaconda3\\envs\\lomin\\lib\\site-packages (from imgaug) (1.16.0)\n",
      "Requirement already satisfied: networkx>=2.0 in c:\\users\\tiger\\anaconda3\\envs\\lomin\\lib\\site-packages (from scikit-image>=0.14.2->imgaug) (2.6.3)\n",
      "Requirement already satisfied: tifffile>=2019.7.26 in c:\\users\\tiger\\anaconda3\\envs\\lomin\\lib\\site-packages (from scikit-image>=0.14.2->imgaug) (2021.10.12)\n",
      "Requirement already satisfied: PyWavelets>=1.1.1 in c:\\users\\tiger\\anaconda3\\envs\\lomin\\lib\\site-packages (from scikit-image>=0.14.2->imgaug) (1.1.1)\n",
      "Requirement already satisfied: cycler>=0.10 in c:\\users\\tiger\\anaconda3\\envs\\lomin\\lib\\site-packages (from matplotlib->imgaug) (0.10.0)\n",
      "Requirement already satisfied: python-dateutil>=2.7 in c:\\users\\tiger\\anaconda3\\envs\\lomin\\lib\\site-packages (from matplotlib->imgaug) (2.8.2)\n",
      "Requirement already satisfied: pyparsing>=2.2.1 in c:\\users\\tiger\\anaconda3\\envs\\lomin\\lib\\site-packages (from matplotlib->imgaug) (3.0.1)\n",
      "Requirement already satisfied: kiwisolver>=1.0.1 in c:\\users\\tiger\\anaconda3\\envs\\lomin\\lib\\site-packages (from matplotlib->imgaug) (1.3.2)\n",
      "Installing collected packages: Shapely, imgaug\n",
      "Successfully installed Shapely-1.8.0 imgaug-0.4.0\n"
     ]
    }
   ],
   "source": [
    "!pip install imgaug"
   ]
  }
 ],
 "metadata": {
  "interpreter": {
   "hash": "d39981906b250a5d44fab5ac8e43e664bfe871e4f54ebd8afb9d93d63333f450"
  },
  "kernelspec": {
   "display_name": "Python 3.7.11 64-bit ('lomin': conda)",
   "name": "python3"
  },
  "language_info": {
   "codemirror_mode": {
    "name": "ipython",
    "version": 3
   },
   "file_extension": ".py",
   "mimetype": "text/x-python",
   "name": "python",
   "nbconvert_exporter": "python",
   "pygments_lexer": "ipython3",
   "version": "3.7.11"
  },
  "orig_nbformat": 4
 },
 "nbformat": 4,
 "nbformat_minor": 2
}
